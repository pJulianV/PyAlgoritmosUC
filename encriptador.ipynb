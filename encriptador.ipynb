{
  "nbformat": 4,
  "nbformat_minor": 0,
  "metadata": {
    "colab": {
      "provenance": []
    },
    "kernelspec": {
      "name": "python3",
      "display_name": "Python 3"
    },
    "language_info": {
      "name": "python"
    }
  },
  "cells": [
    {
      "cell_type": "code",
      "source": [
        "# Hola, esta es el programa en un while inicialo para comenzar :>\n",
        "\n",
        "while True:\n",
        "    print(\"\\n\\n 1 => Encriptar \\n 2 => Desencriptar \\n 3 => Anagrama\")\n",
        "    print(\" \\n 4 => Salir \\n\")\n",
        "\n",
        "    opcion = input(\"Opción (1-4): \")\n",
        "\n",
        "    print(\"_________________________________________\\n\")\n",
        "\n",
        "\n",
        "# Encriptador\n",
        "\n",
        "    if opcion == '1':\n",
        "      contrasena=input(\"Ingrese la palabra que desea encriptar: \")\n",
        "\n",
        "      contrasena = list(contrasena)\n",
        "\n",
        "      for l in contrasena:\n",
        "         if l == \"a\" or l == \"A\" or l == \"á\":\n",
        "          l = \"1\"\n",
        "         elif l == \"e\" or l == \"E\" or l == \"é\":\n",
        "          l = \"2\"\n",
        "         elif l == \"i\" or l == \"I\" or l == \"í\":\n",
        "           l = \"3\"\n",
        "         elif l == \"o\" or l == \"O\" or l == \"ó\":\n",
        "          l = \"4\"\n",
        "         elif l == \"u\"  or l == \"U\" or l == \"ú\":\n",
        "          l = \"5\"\n",
        "         print(l,end=\"\")\n",
        "\n",
        "\n",
        "\n",
        "# Desencriptar\n",
        "\n",
        "    elif opcion == '2':\n",
        "\n",
        "      contrasena=input(\"Ingrese la palabra que desea desencriptar: \")\n",
        "      contrasena=contrasena.lower()\n",
        "\n",
        "      contrasena = list(contrasena)\n",
        "\n",
        "      for l in contrasena:\n",
        "       if l == \"1\":\n",
        "        l = \"a\"\n",
        "       elif l == \"2\":\n",
        "        l = \"e\"\n",
        "       elif l == \"3\":\n",
        "         l = \"i\"\n",
        "       elif l == \"4\":\n",
        "        l = \"o\"\n",
        "       elif l == \"5\":\n",
        "        l = \"u\"\n",
        "       print(l,end=\"\")\n",
        "\n",
        "\n",
        "# Anagrama\n",
        "\n",
        "    elif opcion == '3':\n",
        "      anagrama = input(\"Ingrese su anagrama: \")\n",
        "      anagrama = list(anagrama)\n",
        "      caracteres = len(anagrama)\n",
        "\n",
        "      for l in reversed(anagrama):\n",
        "        print(l,end=\"\")\n",
        "\n",
        "\n",
        "    elif opcion == '4':\n",
        "        print(\"Hasta luego\")\n",
        "        break\n",
        "\n",
        "    else:\n",
        "        print(f\"Opción \\\"{opcion}\\\" No es Válida\")"
      ],
      "metadata": {
        "colab": {
          "base_uri": "https://localhost:8080/"
        },
        "id": "hfYRVTgi0bQM",
        "outputId": "cc8fdad2-c10e-4fc3-ddc7-6149e36b4e76"
      },
      "execution_count": 10,
      "outputs": [
        {
          "output_type": "stream",
          "name": "stdout",
          "text": [
            "\n",
            "\n",
            " 1 => Encriptar \n",
            " 2 => Desencriptar \n",
            " 3 => Anagrama\n",
            " \n",
            " 4 => Salir \n",
            "\n",
            "Opción (1-4): 1\n",
            "_________________________________________\n",
            "\n",
            "Ingrese la palabra que desea encriptar: teléfono\n",
            "t2l2f4n4\n",
            "\n",
            " 1 => Encriptar \n",
            " 2 => Desencriptar \n",
            " 3 => Anagrama\n",
            " \n",
            " 4 => Salir \n",
            "\n",
            "Opción (1-4): 2\n",
            "_________________________________________\n",
            "\n",
            "Ingrese la palabra que desea desencriptar: t2l2f4n4\n",
            "telefono\n",
            "\n",
            " 1 => Encriptar \n",
            " 2 => Desencriptar \n",
            " 3 => Anagrama\n",
            " \n",
            " 4 => Salir \n",
            "\n",
            "Opción (1-4): 3\n",
            "_________________________________________\n",
            "\n",
            "Ingrese su anagrama: arroz\n",
            "zorra\n",
            "\n",
            " 1 => Encriptar \n",
            " 2 => Desencriptar \n",
            " 3 => Anagrama\n",
            " \n",
            " 4 => Salir \n",
            "\n",
            "Opción (1-4): 4\n",
            "_________________________________________\n",
            "\n",
            "Hasta luego\n"
          ]
        }
      ]
    },
    {
      "cell_type": "code",
      "source": [
        "\n",
        "  contrasena=input(\"Ingrese la palabra que desea desencriptar: \")\n",
        "  contrasena=contrasena.lower()\n",
        "\n",
        "  contrasena = list(contrasena)\n",
        "\n",
        "  for l in contrasena:\n",
        "   if l == \"1\":\n",
        "    l = \"a\"\n",
        "   elif l == \"2\":\n",
        "    l = \"e\"\n",
        "   elif l == \"3\":\n",
        "     l = \"i\"\n",
        "   elif l == \"4\":\n",
        "    l = \"o\"\n",
        "   elif l == \"5\":\n",
        "    l = \"u\"\n",
        "   print(l,end=\"\")\n",
        "\n"
      ],
      "metadata": {
        "colab": {
          "base_uri": "https://localhost:8080/"
        },
        "id": "p4LhIqOmwtnF",
        "outputId": "955393aa-6409-4222-9486-7310667d6f20"
      },
      "execution_count": 5,
      "outputs": [
        {
          "output_type": "stream",
          "name": "stdout",
          "text": [
            "Ingrese la palabra que desea desencriptar: t2l2f4n4\n",
            "telefono"
          ]
        }
      ]
    }
  ]
}