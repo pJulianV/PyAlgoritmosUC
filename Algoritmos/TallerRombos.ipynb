{
  "nbformat": 4,
  "nbformat_minor": 0,
  "metadata": {
    "colab": {
      "provenance": []
    },
    "kernelspec": {
      "name": "python3",
      "display_name": "Python 3"
    },
    "language_info": {
      "name": "python"
    }
  },
  "cells": [
    {
      "cell_type": "code",
      "execution_count": 25,
      "metadata": {
        "colab": {
          "base_uri": "https://localhost:8080/"
        },
        "id": "zVgbQvdZcO0G",
        "outputId": "9a4b31e8-44e6-4aed-ec9f-d9ad79d7bafd"
      },
      "outputs": [
        {
          "output_type": "stream",
          "name": "stdout",
          "text": [
            "*\n",
            "**\n",
            "***\n",
            "\n",
            "\n",
            "***\n",
            "**\n",
            "*\n",
            "\n",
            "\n",
            "  *\n",
            " **\n",
            "***\n",
            "\n",
            "\n",
            "***\n",
            " **\n",
            "  *\n",
            "\n",
            "\n",
            "   \n",
            "  **\n",
            " ****\n",
            "******\n",
            " ****\n",
            "  **\n",
            "   \n"
          ]
        }
      ],
      "source": [
        "def print_patterns1():\n",
        "    n = 3  # Puedes ajustar n para cambiar el tamaño de los patrones\n",
        "\n",
        "    # Patrón 1\n",
        "    for i in range(1, n + 1):\n",
        "\t    print(\"*\" * i)\n",
        "\n",
        "\n",
        "def print_patterns2():\n",
        "    n = 3  # Puedes ajustar n para cambiar el tamaño de los patrones\n",
        "\n",
        "    # Patrón 2\n",
        "    for i in range(n, 0, -1):\n",
        "\t    print(\"*\" * i)\n",
        "\n",
        "def print_patterns3():\n",
        "    n = 3  # Puedes ajustar n para cambiar el tamaño de los patrones\n",
        "\n",
        "    # Patrón 3\n",
        "    for i in range(1, n + 1):\n",
        "\t    print(\" \" * (n - i) + \"*\" * i)\n",
        "\n",
        "def print_patterns4():\n",
        "    n = 3  # Puedes ajustar n para cambiar el tamaño de los patrones\n",
        "\n",
        "    # Patrón 4\n",
        "    for i in range(n, 0, -1):\n",
        "\t    print(\" \" * (n - i) + \"*\" * i)\n",
        "\n",
        "def print_diamond():\n",
        "  n = 6\n",
        "  # Calcula la mitad del tamaño del diamante\n",
        "  mid = n // 2\n",
        "\n",
        "  # Imprime la parte superior del diamante\n",
        "  for i in range(mid + 1):\n",
        "    print(\" \" * (mid - i) + \"*\" * (2 * i))\n",
        "\n",
        "  # Imprime la parte inferior del diamante\n",
        "  for i in range(mid, 0, -1):\n",
        "    print(\" \" * (mid - i + 1) + \"*\" * (2 * i - 2))\n",
        "\n",
        "# Llama a la función con el tamaño deseado del diamante\n",
        "\n",
        "\n",
        "\n",
        "\n",
        "print_patterns1()\n",
        "print(\"\\n\")\n",
        "print_patterns2()\n",
        "print(\"\\n\")\n",
        "print_patterns3()\n",
        "print(\"\\n\")\n",
        "print_patterns4()\n",
        "print(\"\\n\")\n",
        "print_diamond()"
      ]
    }
  ]
}